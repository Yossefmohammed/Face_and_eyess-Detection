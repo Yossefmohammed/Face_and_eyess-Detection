{
 "cells": [
  {
   "cell_type": "code",
   "execution_count": 90,
   "id": "8cd115ac",
   "metadata": {},
   "outputs": [],
   "source": [
    "import cv2\n",
    "face_cascade=cv2.CascadeClassifier(cv2.data.haarcascades + 'haarcascade_frontalface_default.xml')"
   ]
  },
  {
   "cell_type": "code",
   "execution_count": 91,
   "id": "742e906f",
   "metadata": {},
   "outputs": [],
   "source": [
    "cap=cv2.VideoCapture(0)\n",
    "while cap.isOpened():\n",
    "\n",
    "    ret,img=cap.read()\n",
    "    img = cv2.resize(img, (1024, 720))\n",
    "    gray=cv2.cvtColor(img,cv2.COLOR_BGR2GRAY)\n",
    "    blurred = cv2.GaussianBlur(gray, (5, 5), 0)\n",
    "    faces=face_cascade.detectMultiScale(blurred,1.1,4)\n",
    "    for (x,y,w,h) in faces :\n",
    "        cv2.rectangle(img,(x,y),(x+w,y+h),(0,0,255),3)\n",
    "    cv2.imshow('img',img)\n",
    "    if cv2.waitKey(20)==ord('q'):\n",
    "        cv2.destroyAllWindows()\n",
    "        break\n",
    "cap.release()\n",
    "cv2.destroyAllWindows()"
   ]
  }
 ],
 "metadata": {
  "kernelspec": {
   "display_name": "base",
   "language": "python",
   "name": "python3"
  },
  "language_info": {
   "codemirror_mode": {
    "name": "ipython",
    "version": 3
   },
   "file_extension": ".py",
   "mimetype": "text/x-python",
   "name": "python",
   "nbconvert_exporter": "python",
   "pygments_lexer": "ipython3",
   "version": "3.12.4"
  }
 },
 "nbformat": 4,
 "nbformat_minor": 5
}
