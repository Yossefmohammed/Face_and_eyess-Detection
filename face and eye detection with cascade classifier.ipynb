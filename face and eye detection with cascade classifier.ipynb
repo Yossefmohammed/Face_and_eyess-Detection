{
 "cells": [
  {
   "cell_type": "code",
   "execution_count": 1,
   "id": "5b47d696",
   "metadata": {},
   "outputs": [],
   "source": [
    "import cv2\n",
    "face_cascade=cv2.CascadeClassifier(cv2.data.haarcascades + 'haarcascade_frontalface_default.xml')\n",
    "eye_cascade = cv2.CascadeClassifier(cv2.data.haarcascades + 'haarcascade_eye.xml')\n",
    "cap=cv2.VideoCapture(0)"
   ]
  },
  {
   "cell_type": "code",
   "execution_count": 2,
   "id": "25db8e76",
   "metadata": {},
   "outputs": [],
   "source": [
    "while cap.isOpened():\n",
    "    _,img=cap.read()\n",
    "    gray=cv2.cvtColor(img,cv2.COLOR_BGR2GRAY)\n",
    "    faces=face_cascade.detectMultiScale(gray,1.1,4)\n",
    "    for (x,y,w,h) in faces:\n",
    "        cv2.rectangle(img,(x,y),(x+w,y+h),(0,0,0),3)\n",
    "        cv2.putText(img,'Face',(x,y-4),cv2.FONT_HERSHEY_COMPLEX,1,(255,255,255),2)\n",
    "        eyes=eye_cascade.detectMultiScale(gray,2.3,4)\n",
    "        for (ex,ey,ew,eh) in eyes:\n",
    "            cv2.rectangle(img,(ex,ey),(ex+ew,ey+eh),(255,0,0),5)\n",
    "            cv2.putText(img,'eye',(ex,ey-4),cv2.FONT_HERSHEY_COMPLEX,0.8,(255,255,255),2)\n",
    "        \n",
    "    cv2.imshow('img',img)\n",
    "    if cv2.waitKey(1)==ord('q'):\n",
    "        cv2.destroyAllWindows()\n",
    "        break\n",
    "cap.release()\n",
    "\n",
    "\n",
    "\n",
    "    \n",
    "        "
   ]
  }
 ],
 "metadata": {
  "kernelspec": {
   "display_name": "base",
   "language": "python",
   "name": "python3"
  },
  "language_info": {
   "codemirror_mode": {
    "name": "ipython",
    "version": 3
   },
   "file_extension": ".py",
   "mimetype": "text/x-python",
   "name": "python",
   "nbconvert_exporter": "python",
   "pygments_lexer": "ipython3",
   "version": "3.12.4"
  }
 },
 "nbformat": 4,
 "nbformat_minor": 5
}
